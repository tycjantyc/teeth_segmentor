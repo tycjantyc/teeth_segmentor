{
 "cells": [
  {
   "cell_type": "code",
   "execution_count": 1,
   "id": "911e1301",
   "metadata": {},
   "outputs": [
    {
     "name": "stdout",
     "output_type": "stream",
     "text": [
      "['c:\\\\Users\\\\Jan\\\\miniconda3\\\\python312.zip', 'c:\\\\Users\\\\Jan\\\\miniconda3\\\\DLLs', 'c:\\\\Users\\\\Jan\\\\miniconda3\\\\Lib', 'c:\\\\Users\\\\Jan\\\\miniconda3', '', 'c:\\\\Users\\\\Jan\\\\miniconda3\\\\Lib\\\\site-packages', 'c:\\\\Users\\\\Jan\\\\miniconda3\\\\Lib\\\\site-packages\\\\win32', 'c:\\\\Users\\\\Jan\\\\miniconda3\\\\Lib\\\\site-packages\\\\win32\\\\lib', 'c:\\\\Users\\\\Jan\\\\miniconda3\\\\Lib\\\\site-packages\\\\Pythonwin', 'c:\\\\Users\\\\Jan\\\\Desktop\\\\SuperZebySegmentacja']\n"
     ]
    },
    {
     "name": "stderr",
     "output_type": "stream",
     "text": [
      "c:\\Users\\Jan\\miniconda3\\Lib\\site-packages\\timm\\models\\layers\\__init__.py:48: FutureWarning: Importing from timm.models.layers is deprecated, please import via timm.layers\n",
      "  warnings.warn(f\"Importing from {__name__} is deprecated, please import via timm.layers\", FutureWarning)\n",
      "c:\\Users\\Jan\\miniconda3\\Lib\\site-packages\\torch\\functional.py:534: UserWarning: torch.meshgrid: in an upcoming release, it will be required to pass the indexing argument. (Triggered internally at C:\\actions-runner\\_work\\pytorch\\pytorch\\builder\\windows\\pytorch\\aten\\src\\ATen\\native\\TensorShape.cpp:3596.)\n",
      "  return _VF.meshgrid(tensors, **kwargs)  # type: ignore[attr-defined]\n"
     ]
    },
    {
     "name": "stdout",
     "output_type": "stream",
     "text": [
      "(268, 410, 410)\n"
     ]
    }
   ],
   "source": [
    "import numpy as np\n",
    "import sys\n",
    "import os\n",
    "sys.path.append(os.getcwd().removesuffix('\\\\evaluation'))\n",
    "print(sys.path)\n",
    "from processing.utils import load_itk\n",
    "from data_prepare.utils_plot import plot_3d_fast\n",
    "from models.tooth_fairy_1 import build_hyspark_tooth_fairy_1\n",
    "from datasets.tooth_fairy_3_dataset import ToothFairy3_Dataset\n",
    "\n",
    "model = build_hyspark_tooth_fairy_1(in_channel=1, n_classes=3, img_size=96)\n",
    "\n",
    "PATH = \"D:/ToothFairy3/imagesTr/ToothFairy3F_009_0000.nii.gz\"\n",
    "image = load_itk(PATH)\n",
    "print(image.shape)"
   ]
  },
  {
   "cell_type": "code",
   "execution_count": 2,
   "id": "b57655e6",
   "metadata": {},
   "outputs": [
    {
     "name": "stderr",
     "output_type": "stream",
     "text": [
      "75it [03:05,  2.47s/it]\n"
     ]
    }
   ],
   "source": [
    "from evaluation.evaluate import evaluate\n",
    "\n",
    "prediction = evaluate(model, PATH, model_input_shape=(96, 96, 96), stride = (96, 96, 96), return_binary=True)"
   ]
  },
  {
   "cell_type": "code",
   "execution_count": 3,
   "id": "36ae9a39",
   "metadata": {},
   "outputs": [
    {
     "name": "stdout",
     "output_type": "stream",
     "text": [
      "(3, 268, 410, 410)\n"
     ]
    }
   ],
   "source": [
    "print(prediction.shape)"
   ]
  }
 ],
 "metadata": {
  "kernelspec": {
   "display_name": "base",
   "language": "python",
   "name": "python3"
  },
  "language_info": {
   "codemirror_mode": {
    "name": "ipython",
    "version": 3
   },
   "file_extension": ".py",
   "mimetype": "text/x-python",
   "name": "python",
   "nbconvert_exporter": "python",
   "pygments_lexer": "ipython3",
   "version": "3.12.3"
  }
 },
 "nbformat": 4,
 "nbformat_minor": 5
}
