{
 "cells": [
  {
   "cell_type": "code",
   "execution_count": 1,
   "id": "0cbabe2a",
   "metadata": {},
   "outputs": [
    {
     "name": "stdout",
     "output_type": "stream",
     "text": [
      "['c:\\\\Users\\\\Jan\\\\miniconda3\\\\python312.zip', 'c:\\\\Users\\\\Jan\\\\miniconda3\\\\DLLs', 'c:\\\\Users\\\\Jan\\\\miniconda3\\\\Lib', 'c:\\\\Users\\\\Jan\\\\miniconda3', '', 'c:\\\\Users\\\\Jan\\\\miniconda3\\\\Lib\\\\site-packages', 'c:\\\\Users\\\\Jan\\\\miniconda3\\\\Lib\\\\site-packages\\\\win32', 'c:\\\\Users\\\\Jan\\\\miniconda3\\\\Lib\\\\site-packages\\\\win32\\\\lib', 'c:\\\\Users\\\\Jan\\\\miniconda3\\\\Lib\\\\site-packages\\\\Pythonwin', 'c:\\\\Users\\\\Jan\\\\Desktop\\\\SuperZebySegmentacja']\n"
     ]
    }
   ],
   "source": [
    "import numpy as np\n",
    "import sys\n",
    "import os\n",
    "sys.path.append(os.getcwd().removesuffix('\\\\data_prepare'))\n",
    "print(sys.path)\n",
    "from processing.utils import load_itk\n",
    "from data_prepare.utils_plot import plot_3d_fast\n",
    "from data_prepare.teeth_segmentor_classic import segment_teeth_cbct\n",
    "\n",
    "PATH = \"C:/Users/Jan/Desktop/SuperZebySegmentacja/data/raw_data/2/image.nii.gz\"\n",
    "\n",
    "image = load_itk(PATH, None)"
   ]
  },
  {
   "cell_type": "code",
   "execution_count": null,
   "id": "6694b6e5",
   "metadata": {},
   "outputs": [],
   "source": [
    "mask = (image > 1000)*1\n",
    "\n",
    "plot_3d_fast(mask, threshold=0.9)"
   ]
  },
  {
   "cell_type": "code",
   "execution_count": null,
   "id": "73729c77",
   "metadata": {},
   "outputs": [
    {
     "ename": "ValueError",
     "evalue": "Images of type float must be between -1 and 1.",
     "output_type": "error",
     "traceback": [
      "\u001b[31m---------------------------------------------------------------------------\u001b[39m",
      "\u001b[31mValueError\u001b[39m                                Traceback (most recent call last)",
      "\u001b[36mCell\u001b[39m\u001b[36m \u001b[39m\u001b[32mIn[4]\u001b[39m\u001b[32m, line 1\u001b[39m\n\u001b[32m----> \u001b[39m\u001b[32m1\u001b[39m mask2 = \u001b[43msegment_teeth_cbct\u001b[49m\u001b[43m(\u001b[49m\u001b[43mimage\u001b[49m\u001b[43m,\u001b[49m\u001b[43m \u001b[49m\u001b[43mwatershed_separate\u001b[49m\u001b[43m=\u001b[49m\u001b[38;5;28;43;01mFalse\u001b[39;49;00m\u001b[43m)\u001b[49m*\u001b[32m1\u001b[39m\n\u001b[32m      3\u001b[39m plot_3d_fast(mask2, threshold=\u001b[32m0.9\u001b[39m)\n",
      "\u001b[36mFile \u001b[39m\u001b[32mc:\\Users\\Jan\\Desktop\\SuperZebySegmentacja\\data_prepare\\teeth_segmentor_classic.py:45\u001b[39m, in \u001b[36msegment_teeth_cbct\u001b[39m\u001b[34m(vol, spacing, smooth_sigma, enamel_thresh, mandible_thresh, size_threshold, watershed_separate)\u001b[39m\n\u001b[32m     14\u001b[39m \u001b[38;5;250m\u001b[39m\u001b[33;03m\"\"\"\u001b[39;00m\n\u001b[32m     15\u001b[39m \u001b[33;03mClassic (non-DL) tooth segmentation for 3-D CBCT volumes.\u001b[39;00m\n\u001b[32m     16\u001b[39m \n\u001b[32m   (...)\u001b[39m\u001b[32m     42\u001b[39m \u001b[33;03m    `watershed_separate` is True.\u001b[39;00m\n\u001b[32m     43\u001b[39m \u001b[33;03m\"\"\"\u001b[39;00m\n\u001b[32m     44\u001b[39m \u001b[38;5;66;03m# 0. (optional) bias‐field correction / intensity normalisation\u001b[39;00m\n\u001b[32m---> \u001b[39m\u001b[32m45\u001b[39m vol_eq = \u001b[43mexposure\u001b[49m\u001b[43m.\u001b[49m\u001b[43mequalize_adapthist\u001b[49m\u001b[43m(\u001b[49m\u001b[43mvol\u001b[49m\u001b[43m.\u001b[49m\u001b[43mastype\u001b[49m\u001b[43m(\u001b[49m\u001b[43mnp\u001b[49m\u001b[43m.\u001b[49m\u001b[43mfloat32\u001b[49m\u001b[43m)\u001b[49m\u001b[43m,\u001b[49m\u001b[43m \u001b[49m\u001b[43mclip_limit\u001b[49m\u001b[43m=\u001b[49m\u001b[32;43m0.02\u001b[39;49m\u001b[43m)\u001b[49m\n\u001b[32m     47\u001b[39m \u001b[38;5;66;03m# 1. slight Gaussian smoothing (reduces photon noise)\u001b[39;00m\n\u001b[32m     48\u001b[39m vol_s = ndi.gaussian_filter(vol_eq, sigma=smooth_sigma)\n",
      "\u001b[36mFile \u001b[39m\u001b[32mc:\\Users\\Jan\\miniconda3\\Lib\\site-packages\\skimage\\color\\adapt_rgb.py:41\u001b[39m, in \u001b[36madapt_rgb.<locals>.decorator.<locals>.image_filter_adapted\u001b[39m\u001b[34m(image, *args, **kwargs)\u001b[39m\n\u001b[32m     39\u001b[39m     \u001b[38;5;28;01mreturn\u001b[39;00m apply_to_rgb(image_filter, image, *args, **kwargs)\n\u001b[32m     40\u001b[39m \u001b[38;5;28;01melse\u001b[39;00m:\n\u001b[32m---> \u001b[39m\u001b[32m41\u001b[39m     \u001b[38;5;28;01mreturn\u001b[39;00m \u001b[43mimage_filter\u001b[49m\u001b[43m(\u001b[49m\u001b[43mimage\u001b[49m\u001b[43m,\u001b[49m\u001b[43m \u001b[49m\u001b[43m*\u001b[49m\u001b[43margs\u001b[49m\u001b[43m,\u001b[49m\u001b[43m \u001b[49m\u001b[43m*\u001b[49m\u001b[43m*\u001b[49m\u001b[43mkwargs\u001b[49m\u001b[43m)\u001b[49m\n",
      "\u001b[36mFile \u001b[39m\u001b[32mc:\\Users\\Jan\\miniconda3\\Lib\\site-packages\\skimage\\exposure\\_adapthist.py:75\u001b[39m, in \u001b[36mequalize_adapthist\u001b[39m\u001b[34m(image, kernel_size, clip_limit, nbins)\u001b[39m\n\u001b[32m     25\u001b[39m \u001b[38;5;250m\u001b[39m\u001b[33;03m\"\"\"Contrast Limited Adaptive Histogram Equalization (CLAHE).\u001b[39;00m\n\u001b[32m     26\u001b[39m \n\u001b[32m     27\u001b[39m \u001b[33;03mAn algorithm for local contrast enhancement, that uses histograms computed\u001b[39;00m\n\u001b[32m   (...)\u001b[39m\u001b[32m     71\u001b[39m \u001b[33;03m.. [2] https://en.wikipedia.org/wiki/CLAHE#CLAHE\u001b[39;00m\n\u001b[32m     72\u001b[39m \u001b[33;03m\"\"\"\u001b[39;00m\n\u001b[32m     74\u001b[39m float_dtype = _supported_float_type(image.dtype)\n\u001b[32m---> \u001b[39m\u001b[32m75\u001b[39m image = \u001b[43mimg_as_uint\u001b[49m\u001b[43m(\u001b[49m\u001b[43mimage\u001b[49m\u001b[43m)\u001b[49m\n\u001b[32m     76\u001b[39m image = np.round(rescale_intensity(image, out_range=(\u001b[32m0\u001b[39m, NR_OF_GRAY - \u001b[32m1\u001b[39m))).astype(\n\u001b[32m     77\u001b[39m     np.min_scalar_type(NR_OF_GRAY)\n\u001b[32m     78\u001b[39m )\n\u001b[32m     80\u001b[39m \u001b[38;5;28;01mif\u001b[39;00m kernel_size \u001b[38;5;129;01mis\u001b[39;00m \u001b[38;5;28;01mNone\u001b[39;00m:\n",
      "\u001b[36mFile \u001b[39m\u001b[32mc:\\Users\\Jan\\miniconda3\\Lib\\site-packages\\skimage\\util\\dtype.py:527\u001b[39m, in \u001b[36mimg_as_uint\u001b[39m\u001b[34m(image, force_copy)\u001b[39m\n\u001b[32m    506\u001b[39m \u001b[38;5;28;01mdef\u001b[39;00m\u001b[38;5;250m \u001b[39m\u001b[34mimg_as_uint\u001b[39m(image, force_copy=\u001b[38;5;28;01mFalse\u001b[39;00m):\n\u001b[32m    507\u001b[39m \u001b[38;5;250m    \u001b[39m\u001b[33;03m\"\"\"Convert an image to 16-bit unsigned integer format.\u001b[39;00m\n\u001b[32m    508\u001b[39m \n\u001b[32m    509\u001b[39m \u001b[33;03m    Parameters\u001b[39;00m\n\u001b[32m   (...)\u001b[39m\u001b[32m    525\u001b[39m \n\u001b[32m    526\u001b[39m \u001b[33;03m    \"\"\"\u001b[39;00m\n\u001b[32m--> \u001b[39m\u001b[32m527\u001b[39m     \u001b[38;5;28;01mreturn\u001b[39;00m \u001b[43m_convert\u001b[49m\u001b[43m(\u001b[49m\u001b[43mimage\u001b[49m\u001b[43m,\u001b[49m\u001b[43m \u001b[49m\u001b[43mnp\u001b[49m\u001b[43m.\u001b[49m\u001b[43muint16\u001b[49m\u001b[43m,\u001b[49m\u001b[43m \u001b[49m\u001b[43mforce_copy\u001b[49m\u001b[43m)\u001b[49m\n",
      "\u001b[36mFile \u001b[39m\u001b[32mc:\\Users\\Jan\\miniconda3\\Lib\\site-packages\\skimage\\util\\dtype.py:312\u001b[39m, in \u001b[36m_convert\u001b[39m\u001b[34m(image, dtype, force_copy, uniform)\u001b[39m\n\u001b[32m    309\u001b[39m     \u001b[38;5;28;01mreturn\u001b[39;00m image.astype(dtype_out)\n\u001b[32m    311\u001b[39m \u001b[38;5;28;01mif\u001b[39;00m np.min(image) < -\u001b[32m1.0\u001b[39m \u001b[38;5;129;01mor\u001b[39;00m np.max(image) > \u001b[32m1.0\u001b[39m:\n\u001b[32m--> \u001b[39m\u001b[32m312\u001b[39m     \u001b[38;5;28;01mraise\u001b[39;00m \u001b[38;5;167;01mValueError\u001b[39;00m(\u001b[33m\"\u001b[39m\u001b[33mImages of type float must be between -1 and 1.\u001b[39m\u001b[33m\"\u001b[39m)\n\u001b[32m    313\u001b[39m \u001b[38;5;66;03m# floating point -> integer\u001b[39;00m\n\u001b[32m    314\u001b[39m \u001b[38;5;66;03m# use float type that can represent output integer type\u001b[39;00m\n\u001b[32m    315\u001b[39m computation_type = _dtype_itemsize(\n\u001b[32m    316\u001b[39m     itemsize_out, dtype_in, np.float32, np.float64\n\u001b[32m    317\u001b[39m )\n",
      "\u001b[31mValueError\u001b[39m: Images of type float must be between -1 and 1."
     ]
    }
   ],
   "source": [
    "mask2 = segment_teeth_cbct(image, watershed_separate=False)*1\n",
    "plot_3d_fast(mask2, threshold=0.9)"
   ]
  }
 ],
 "metadata": {
  "kernelspec": {
   "display_name": "base",
   "language": "python",
   "name": "python3"
  },
  "language_info": {
   "codemirror_mode": {
    "name": "ipython",
    "version": 3
   },
   "file_extension": ".py",
   "mimetype": "text/x-python",
   "name": "python",
   "nbconvert_exporter": "python",
   "pygments_lexer": "ipython3",
   "version": "3.12.3"
  }
 },
 "nbformat": 4,
 "nbformat_minor": 5
}
