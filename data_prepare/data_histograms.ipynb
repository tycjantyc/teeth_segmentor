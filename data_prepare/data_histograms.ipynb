{
 "cells": [
  {
   "cell_type": "code",
   "execution_count": null,
   "id": "1148c098",
   "metadata": {},
   "outputs": [
    {
     "name": "stdout",
     "output_type": "stream",
     "text": [
      "['c:\\\\Users\\\\Jan\\\\miniconda3\\\\python312.zip', 'c:\\\\Users\\\\Jan\\\\miniconda3\\\\DLLs', 'c:\\\\Users\\\\Jan\\\\miniconda3\\\\Lib', 'c:\\\\Users\\\\Jan\\\\miniconda3', '', 'c:\\\\Users\\\\Jan\\\\miniconda3\\\\Lib\\\\site-packages', 'c:\\\\Users\\\\Jan\\\\miniconda3\\\\Lib\\\\site-packages\\\\win32', 'c:\\\\Users\\\\Jan\\\\miniconda3\\\\Lib\\\\site-packages\\\\win32\\\\lib', 'c:\\\\Users\\\\Jan\\\\miniconda3\\\\Lib\\\\site-packages\\\\Pythonwin', 'c:\\\\Users\\\\Jan\\\\Desktop\\\\teeth_segmentor', 'c:\\\\Users\\\\Jan\\\\Desktop\\\\teeth_segmentor', 'c:\\\\Users\\\\Jan\\\\Desktop\\\\teeth_segmentor', 'c:\\\\Users\\\\Jan\\\\Desktop\\\\teeth_segmentor', 'c:\\\\Users\\\\Jan\\\\Desktop\\\\teeth_segmentor', 'c:\\\\Users\\\\Jan\\\\Desktop\\\\teeth_segmentor', 'c:\\\\Users\\\\Jan\\\\Desktop\\\\teeth_segmentor', 'c:\\\\Users\\\\Jan\\\\Desktop\\\\teeth_segmentor']\n"
     ]
    },
    {
     "name": "stderr",
     "output_type": "stream",
     "text": [
      "0it [00:00, ?it/s]"
     ]
    },
    {
     "name": "stdout",
     "output_type": "stream",
     "text": [
      "D:/ToothFairy3\\imagesTr\\ToothFairy3F_001_0000.nii.gz\n"
     ]
    },
    {
     "name": "stderr",
     "output_type": "stream",
     "text": [
      "0it [00:02, ?it/s]"
     ]
    },
    {
     "name": "stdout",
     "output_type": "stream",
     "text": [
      "(1714810,)\n",
      "(262, 512, 512)\n"
     ]
    },
    {
     "name": "stderr",
     "output_type": "stream",
     "text": [
      "\n"
     ]
    },
    {
     "ename": "MemoryError",
     "evalue": "Unable to allocate 3.27 TiB for an array with shape (1714810, 512, 512) and data type float64",
     "output_type": "error",
     "traceback": [
      "\u001b[31m---------------------------------------------------------------------------\u001b[39m",
      "\u001b[31mMemoryError\u001b[39m                               Traceback (most recent call last)",
      "\u001b[36mCell\u001b[39m\u001b[36m \u001b[39m\u001b[32mIn[8]\u001b[39m\u001b[32m, line 35\u001b[39m\n\u001b[32m     32\u001b[39m mask = compress_tooth_fairy_classes(mask)\n\u001b[32m     34\u001b[39m \u001b[38;5;28;01mfor\u001b[39;00m j \u001b[38;5;129;01min\u001b[39;00m \u001b[38;5;28mrange\u001b[39m(\u001b[32m1\u001b[39m,\u001b[32m8\u001b[39m):\n\u001b[32m---> \u001b[39m\u001b[32m35\u001b[39m     values = \u001b[43mextract_masked_values\u001b[49m\u001b[43m(\u001b[49m\u001b[43mimg\u001b[49m\u001b[43m,\u001b[49m\u001b[43m \u001b[49m\u001b[43mmask\u001b[49m\u001b[43m[\u001b[49m\u001b[43mmask\u001b[49m\u001b[43m==\u001b[49m\u001b[43mj\u001b[49m\u001b[43m]\u001b[49m\u001b[43m)\u001b[49m\n\u001b[32m     36\u001b[39m     all_values.extend(values) \n\u001b[32m     38\u001b[39m i+=\u001b[32m1\u001b[39m\n",
      "\u001b[36mCell\u001b[39m\u001b[36m \u001b[39m\u001b[32mIn[8]\u001b[39m\u001b[32m, line 16\u001b[39m, in \u001b[36mextract_masked_values\u001b[39m\u001b[34m(image, mask)\u001b[39m\n\u001b[32m     14\u001b[39m \u001b[38;5;28mprint\u001b[39m(mask.shape)\n\u001b[32m     15\u001b[39m \u001b[38;5;28mprint\u001b[39m(image.shape)\n\u001b[32m---> \u001b[39m\u001b[32m16\u001b[39m \u001b[38;5;28;01mreturn\u001b[39;00m \u001b[43mimage\u001b[49m\u001b[43m[\u001b[49m\u001b[43mmask\u001b[49m\u001b[43m]\u001b[49m\n",
      "\u001b[31mMemoryError\u001b[39m: Unable to allocate 3.27 TiB for an array with shape (1714810, 512, 512) and data type float64"
     ]
    }
   ],
   "source": [
    "import sys\n",
    "import os\n",
    "sys.path.append(os.getcwd().removesuffix('\\\\data_prepare'))\n",
    "print(sys.path)\n",
    "from processing.utils import load_itk\n",
    "import numpy as np\n",
    "import matplotlib.pyplot as plt\n",
    "from processing.tooth_fairy_classes import compress_tooth_fairy_classes\n",
    "from tqdm import tqdm \n",
    "\n",
    "path = 'D:/ToothFairy3'\n",
    "\n",
    "def extract_masked_values(image, mask, num:int):\n",
    "    \n",
    "    return image[mask == num]\n",
    "\n",
    "all_values = [[],[],[],[],[],[],[]]\n",
    "\n",
    "img_paths = [os.path.join(path,'imagesTr', p) for p in os.listdir(os.path.join(path,'imagesTr'))]\n",
    "mask_paths = [os.path.join(path,'labelsTr', p) for p in os.listdir(os.path.join(path,'labelsTr'))]\n",
    "\n",
    "i = 0\n",
    "\n",
    "for img_p, mask_p in tqdm(zip(img_paths, mask_paths)):\n",
    "\n",
    "    print(img_p)\n",
    "\n",
    "    img = load_itk(img_p)\n",
    "    mask = load_itk(mask_p)\n",
    "\n",
    "    mask = compress_tooth_fairy_classes(mask)\n",
    "\n",
    "    for j in range(1,8):\n",
    "        values = extract_masked_values(img, mask, j)\n",
    "        all_values.extend(values) \n",
    "    \n",
    "    i+=1\n",
    "\n",
    "    if (i > 100):\n",
    "        break"
   ]
  },
  {
   "cell_type": "code",
   "execution_count": null,
   "id": "2f15879e",
   "metadata": {},
   "outputs": [],
   "source": [
    "all_values = np.array(all_values)"
   ]
  },
  {
   "cell_type": "code",
   "execution_count": null,
   "id": "afc0a261",
   "metadata": {},
   "outputs": [],
   "source": [
    "fig, axes = plt.subplots(7, 1, figsize = (70, 10))\n",
    "for g in range(7):\n",
    "\n",
    "    axes[g].hist(all_values, bins=50)  \n",
    "    axes[g].set_title(f'{g}')"
   ]
  }
 ],
 "metadata": {
  "kernelspec": {
   "display_name": "base",
   "language": "python",
   "name": "python3"
  },
  "language_info": {
   "codemirror_mode": {
    "name": "ipython",
    "version": 3
   },
   "file_extension": ".py",
   "mimetype": "text/x-python",
   "name": "python",
   "nbconvert_exporter": "python",
   "pygments_lexer": "ipython3",
   "version": "3.12.3"
  }
 },
 "nbformat": 4,
 "nbformat_minor": 5
}
