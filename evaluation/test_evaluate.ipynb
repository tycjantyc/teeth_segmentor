{
 "cells": [
  {
   "cell_type": "code",
   "execution_count": 2,
   "id": "911e1301",
   "metadata": {},
   "outputs": [
    {
     "name": "stdout",
     "output_type": "stream",
     "text": [
      "['c:\\\\Users\\\\Jan\\\\miniconda3\\\\python312.zip', 'c:\\\\Users\\\\Jan\\\\miniconda3\\\\DLLs', 'c:\\\\Users\\\\Jan\\\\miniconda3\\\\Lib', 'c:\\\\Users\\\\Jan\\\\miniconda3', '', 'c:\\\\Users\\\\Jan\\\\miniconda3\\\\Lib\\\\site-packages', 'c:\\\\Users\\\\Jan\\\\miniconda3\\\\Lib\\\\site-packages\\\\win32', 'c:\\\\Users\\\\Jan\\\\miniconda3\\\\Lib\\\\site-packages\\\\win32\\\\lib', 'c:\\\\Users\\\\Jan\\\\miniconda3\\\\Lib\\\\site-packages\\\\Pythonwin', 'c:\\\\Users\\\\Jan\\\\Desktop\\\\teeth_segmentor', 'c:\\\\Users\\\\Jan\\\\Desktop\\\\teeth_segmentor']\n",
      "=========================================================================================================\n",
      "Layer (type:depth-idx)                                  Output Shape              Param #\n",
      "=========================================================================================================\n",
      "Hybird                                                  [1, 3, 96, 96, 96]        --\n",
      "├─Embeddings: 1-1                                       [1, 64, 96, 96, 96]       --\n",
      "│    └─Conv3d: 2-1                                      [1, 32, 96, 96, 96]       (896)\n",
      "│    └─Sequential: 2-2                                  [1, 32, 96, 96, 96]       --\n",
      "│    │    └─MedNeXtBlock: 3-1                           [1, 32, 96, 96, 96]       (5,152)\n",
      "│    └─Conv3d: 2-3                                      [1, 64, 96, 96, 96]       55,360\n",
      "│    └─MaxPool3d: 2-4                                   [1, 64, 48, 48, 48]       --\n",
      "│    └─Sequential: 2-5                                  [1, 64, 48, 48, 48]       --\n",
      "│    │    └─MedNeXtBlock: 3-2                           [1, 64, 48, 48, 48]       (35,008)\n",
      "│    └─Conv3d: 2-6                                      [1, 128, 48, 48, 48]      221,312\n",
      "│    └─MaxPool3d: 2-7                                   [1, 128, 24, 24, 24]      --\n",
      "│    └─Sequential: 2-8                                  [1, 128, 24, 24, 24]      --\n",
      "│    │    └─MedNeXtBlock: 3-3                           [1, 128, 24, 24, 24]      (135,552)\n",
      "│    │    └─MedNeXtBlock: 3-4                           [1, 128, 24, 24, 24]      (135,552)\n",
      "│    │    └─MedNeXtBlock: 3-5                           [1, 128, 24, 24, 24]      135,552\n",
      "│    └─Conv3d: 2-9                                      [1, 256, 24, 24, 24]      884,992\n",
      "│    └─MaxPool3d: 2-10                                  [1, 256, 12, 12, 12]      --\n",
      "│    └─Sequential: 2-11                                 [1, 256, 12, 12, 12]      --\n",
      "│    │    └─MedNeXtBlock: 3-6                           [1, 256, 12, 12, 12]      533,248\n",
      "│    │    └─MedNeXtBlock: 3-7                           [1, 256, 12, 12, 12]      533,248\n",
      "│    │    └─MedNeXtBlock: 3-8                           [1, 256, 12, 12, 12]      533,248\n",
      "│    └─Conv3d: 2-12                                     [1, 384, 12, 12, 12]      2,654,592\n",
      "│    └─MaxPool3d: 2-13                                  [1, 384, 6, 6, 6]         --\n",
      "│    └─Sequential: 2-14                                 [1, 384, 6, 6, 6]         --\n",
      "│    │    └─MedNeXtBlock: 3-9                           [1, 384, 6, 6, 6]         602,496\n",
      "├─MaskedAutoencoderViT: 1-2                             [1, 384, 6, 6, 6]         82,944\n",
      "│    └─ModuleList: 2-15                                 --                        --\n",
      "│    │    └─Block: 3-10                                 [1, 216, 384]             (1,774,464)\n",
      "│    │    └─Block: 3-11                                 [1, 216, 384]             (1,774,464)\n",
      "│    │    └─Block: 3-12                                 [1, 216, 384]             (1,774,464)\n",
      "│    └─LayerNorm: 2-16                                  [1, 216, 384]             (768)\n",
      "├─Decoder: 1-3                                          [1, 3, 96, 96, 96]        --\n",
      "│    └─FusionBlock: 2-17                                [1, 256, 12, 12, 12]      --\n",
      "│    │    └─MedNeXtBlock: 3-13                          [1, 384, 12, 12, 12]      1,193,088\n",
      "│    │    └─MedNeXtUpBlock: 3-14                        [1, 256, 12, 12, 12]      1,094,912\n",
      "│    │    └─UnetResBlock: 3-15                          [1, 256, 12, 12, 12]      6,357,760\n",
      "│    └─FusionBlock: 2-18                                [1, 128, 24, 24, 24]      --\n",
      "│    │    └─MedNeXtBlock: 3-16                          [1, 256, 24, 24, 24]      533,248\n",
      "│    │    └─MedNeXtUpBlock: 3-17                        [1, 128, 24, 24, 24]      434,944\n",
      "│    │    └─UnetResBlock: 3-18                          [1, 128, 24, 24, 24]      1,819,008\n",
      "│    └─FusionBlock: 2-19                                [1, 64, 48, 48, 48]       --\n",
      "│    │    └─MedNeXtBlock: 3-19                          [1, 128, 48, 48, 48]      135,552\n",
      "│    │    └─MedNeXtUpBlock: 3-20                        [1, 64, 48, 48, 48]       110,976\n",
      "│    │    └─UnetResBlock: 3-21                          [1, 64, 48, 48, 48]       454,848\n",
      "│    └─FusionBlock: 2-20                                [1, 32, 96, 96, 96]       --\n",
      "│    │    └─MedNeXtBlock: 3-22                          [1, 64, 96, 96, 96]       18,496\n",
      "│    │    └─MedNeXtUpBlock: 3-23                        [1, 32, 96, 96, 96]       28,864\n",
      "│    │    └─UnetResBlock: 3-24                          [1, 32, 96, 96, 96]       113,760\n",
      "│    └─UnetOutBlock: 2-21                               [1, 3, 96, 96, 96]        --\n",
      "│    │    └─Conv3d: 3-25                                [1, 3, 96, 96, 96]        99\n",
      "=========================================================================================================\n",
      "Total params: 24,168,867\n",
      "Trainable params: 18,380,227\n",
      "Non-trainable params: 5,788,640\n",
      "Total mult-adds (Units.GIGABYTES): 379.00\n",
      "=========================================================================================================\n",
      "Input size (MB): 3.54\n",
      "Forward/backward pass size (MB): 10990.73\n",
      "Params size (MB): 96.34\n",
      "Estimated Total Size (MB): 11090.62\n",
      "=========================================================================================================\n"
     ]
    },
    {
     "ename": "AttributeError",
     "evalue": "module 'torch.onnx' has no attribute '_optimize_trace'",
     "output_type": "error",
     "traceback": [
      "\u001b[31m---------------------------------------------------------------------------\u001b[39m",
      "\u001b[31mAttributeError\u001b[39m                            Traceback (most recent call last)",
      "\u001b[36mCell\u001b[39m\u001b[36m \u001b[39m\u001b[32mIn[2]\u001b[39m\u001b[32m, line 19\u001b[39m\n\u001b[32m     15\u001b[39m \u001b[38;5;28mprint\u001b[39m(summary(model, input_size=(\u001b[32m1\u001b[39m, \u001b[32m1\u001b[39m, \u001b[32m96\u001b[39m, \u001b[32m96\u001b[39m, \u001b[32m96\u001b[39m)))\n\u001b[32m     17\u001b[39m model = model.cpu()\n\u001b[32m---> \u001b[39m\u001b[32m19\u001b[39m g = \u001b[43mhl\u001b[49m\u001b[43m.\u001b[49m\u001b[43mbuild_graph\u001b[49m\u001b[43m(\u001b[49m\u001b[43mmodel\u001b[49m\u001b[43m,\u001b[49m\u001b[43m \u001b[49m\u001b[43mtc\u001b[49m\u001b[43m.\u001b[49m\u001b[43mrandn\u001b[49m\u001b[43m(\u001b[49m\u001b[32;43m1\u001b[39;49m\u001b[43m,\u001b[49m\u001b[43m \u001b[49m\u001b[32;43m1\u001b[39;49m\u001b[43m,\u001b[49m\u001b[43m \u001b[49m\u001b[32;43m96\u001b[39;49m\u001b[43m,\u001b[49m\u001b[43m \u001b[49m\u001b[32;43m96\u001b[39;49m\u001b[43m,\u001b[49m\u001b[43m \u001b[49m\u001b[32;43m96\u001b[39;49m\u001b[43m)\u001b[49m\u001b[43m)\u001b[49m\n\u001b[32m     20\u001b[39m g.save(\u001b[33m\"\u001b[39m\u001b[33mmodel_architecture\u001b[39m\u001b[33m\"\u001b[39m, \u001b[38;5;28mformat\u001b[39m=\u001b[33m\"\u001b[39m\u001b[33mpng\u001b[39m\u001b[33m\"\u001b[39m)\n\u001b[32m     22\u001b[39m PATH = \u001b[33m\"\u001b[39m\u001b[33mD:/ToothFairy3/imagesTr/ToothFairy3F_009_0000.nii.gz\u001b[39m\u001b[33m\"\u001b[39m\n",
      "\u001b[36mFile \u001b[39m\u001b[32mc:\\Users\\Jan\\miniconda3\\Lib\\site-packages\\hiddenlayer\\graph.py:143\u001b[39m, in \u001b[36mbuild_graph\u001b[39m\u001b[34m(model, args, input_names, transforms, framework_transforms)\u001b[39m\n\u001b[32m    141\u001b[39m     \u001b[38;5;28;01mfrom\u001b[39;00m\u001b[38;5;250m \u001b[39m\u001b[34;01m.\u001b[39;00m\u001b[34;01mpytorch_builder\u001b[39;00m\u001b[38;5;250m \u001b[39m\u001b[38;5;28;01mimport\u001b[39;00m import_graph, FRAMEWORK_TRANSFORMS\n\u001b[32m    142\u001b[39m     \u001b[38;5;28;01massert\u001b[39;00m args \u001b[38;5;129;01mis\u001b[39;00m \u001b[38;5;129;01mnot\u001b[39;00m \u001b[38;5;28;01mNone\u001b[39;00m, \u001b[33m\"\u001b[39m\u001b[33mArgument args must be provided for Pytorch models.\u001b[39m\u001b[33m\"\u001b[39m\n\u001b[32m--> \u001b[39m\u001b[32m143\u001b[39m     \u001b[43mimport_graph\u001b[49m\u001b[43m(\u001b[49m\u001b[43mg\u001b[49m\u001b[43m,\u001b[49m\u001b[43m \u001b[49m\u001b[43mmodel\u001b[49m\u001b[43m,\u001b[49m\u001b[43m \u001b[49m\u001b[43margs\u001b[49m\u001b[43m)\u001b[49m\n\u001b[32m    144\u001b[39m \u001b[38;5;28;01melif\u001b[39;00m framework == \u001b[33m\"\u001b[39m\u001b[33mtensorflow\u001b[39m\u001b[33m\"\u001b[39m:\n\u001b[32m    145\u001b[39m     \u001b[38;5;28;01mfrom\u001b[39;00m\u001b[38;5;250m \u001b[39m\u001b[34;01m.\u001b[39;00m\u001b[34;01mtf_builder\u001b[39;00m\u001b[38;5;250m \u001b[39m\u001b[38;5;28;01mimport\u001b[39;00m import_graph, FRAMEWORK_TRANSFORMS\n",
      "\u001b[36mFile \u001b[39m\u001b[32mc:\\Users\\Jan\\miniconda3\\Lib\\site-packages\\hiddenlayer\\pytorch_builder.py:71\u001b[39m, in \u001b[36mimport_graph\u001b[39m\u001b[34m(hl_graph, model, args, input_names, verbose)\u001b[39m\n\u001b[32m     66\u001b[39m \u001b[38;5;28;01mdef\u001b[39;00m\u001b[38;5;250m \u001b[39m\u001b[34mimport_graph\u001b[39m(hl_graph, model, args, input_names=\u001b[38;5;28;01mNone\u001b[39;00m, verbose=\u001b[38;5;28;01mFalse\u001b[39;00m):\n\u001b[32m     67\u001b[39m     \u001b[38;5;66;03m# TODO: add input names to graph\u001b[39;00m\n\u001b[32m     68\u001b[39m \n\u001b[32m     69\u001b[39m     \u001b[38;5;66;03m# Run the Pytorch graph to get a trace and generate a graph from it\u001b[39;00m\n\u001b[32m     70\u001b[39m     trace, out = torch.jit._get_trace_graph(model, args)\n\u001b[32m---> \u001b[39m\u001b[32m71\u001b[39m     torch_graph = \u001b[43mtorch\u001b[49m\u001b[43m.\u001b[49m\u001b[43monnx\u001b[49m\u001b[43m.\u001b[49m\u001b[43m_optimize_trace\u001b[49m(trace, torch.onnx.OperatorExportTypes.ONNX)\n\u001b[32m     73\u001b[39m     \u001b[38;5;66;03m# Dump list of nodes (DEBUG only)\u001b[39;00m\n\u001b[32m     74\u001b[39m     \u001b[38;5;28;01mif\u001b[39;00m verbose:\n",
      "\u001b[31mAttributeError\u001b[39m: module 'torch.onnx' has no attribute '_optimize_trace'"
     ]
    }
   ],
   "source": [
    "import numpy as np\n",
    "import sys\n",
    "import os\n",
    "sys.path.append(os.getcwd().removesuffix('\\\\evaluation'))\n",
    "print(sys.path)\n",
    "from processing.utils import load_itk\n",
    "from data_prepare.utils_plot import plot_3d_fast\n",
    "from models.tooth_fairy_1 import build_hyspark_tooth_fairy_1\n",
    "from datasets.tooth_fairy_3_dataset import ToothFairy3_Dataset\n",
    "from torchinfo import summary\n",
    "import torch as tc\n",
    "import hiddenlayer as hl\n",
    "\n",
    "model = build_hyspark_tooth_fairy_1(in_channel=1, n_classes=3, img_size=96)\n",
    "print(summary(model, input_size=(1, 1, 96, 96, 96)))\n",
    "\n",
    "model = model.cpu()\n",
    "\n",
    "g = hl.build_graph(model, tc.randn(1, 1, 96, 96, 96))\n",
    "g.save(\"model_architecture\", format=\"png\")\n",
    "\n",
    "PATH = \"D:/ToothFairy3/imagesTr/ToothFairy3F_009_0000.nii.gz\"\n",
    "image = load_itk(PATH)\n",
    "print(image.shape)"
   ]
  },
  {
   "cell_type": "code",
   "execution_count": 2,
   "id": "b57655e6",
   "metadata": {},
   "outputs": [
    {
     "name": "stderr",
     "output_type": "stream",
     "text": [
      "3it [00:12,  4.02s/it]\n"
     ]
    },
    {
     "ename": "KeyboardInterrupt",
     "evalue": "",
     "output_type": "error",
     "traceback": [
      "\u001b[31m---------------------------------------------------------------------------\u001b[39m",
      "\u001b[31mKeyboardInterrupt\u001b[39m                         Traceback (most recent call last)",
      "\u001b[36mCell\u001b[39m\u001b[36m \u001b[39m\u001b[32mIn[2]\u001b[39m\u001b[32m, line 3\u001b[39m\n\u001b[32m      1\u001b[39m \u001b[38;5;28;01mfrom\u001b[39;00m\u001b[38;5;250m \u001b[39m\u001b[34;01mevaluation\u001b[39;00m\u001b[34;01m.\u001b[39;00m\u001b[34;01mevaluate\u001b[39;00m\u001b[38;5;250m \u001b[39m\u001b[38;5;28;01mimport\u001b[39;00m evaluate\n\u001b[32m----> \u001b[39m\u001b[32m3\u001b[39m prediction = \u001b[43mevaluate\u001b[49m\u001b[43m(\u001b[49m\u001b[43mmodel\u001b[49m\u001b[43m,\u001b[49m\u001b[43m \u001b[49m\u001b[43mPATH\u001b[49m\u001b[43m,\u001b[49m\u001b[43m \u001b[49m\u001b[43mmodel_input_shape\u001b[49m\u001b[43m=\u001b[49m\u001b[43m(\u001b[49m\u001b[32;43m96\u001b[39;49m\u001b[43m,\u001b[49m\u001b[43m \u001b[49m\u001b[32;43m96\u001b[39;49m\u001b[43m,\u001b[49m\u001b[43m \u001b[49m\u001b[32;43m96\u001b[39;49m\u001b[43m)\u001b[49m\u001b[43m,\u001b[49m\u001b[43m \u001b[49m\u001b[43mstride\u001b[49m\u001b[43m \u001b[49m\u001b[43m=\u001b[49m\u001b[43m \u001b[49m\u001b[43m(\u001b[49m\u001b[32;43m96\u001b[39;49m\u001b[43m,\u001b[49m\u001b[43m \u001b[49m\u001b[32;43m96\u001b[39;49m\u001b[43m,\u001b[49m\u001b[43m \u001b[49m\u001b[32;43m96\u001b[39;49m\u001b[43m)\u001b[49m\u001b[43m,\u001b[49m\u001b[43m \u001b[49m\u001b[43mreturn_binary\u001b[49m\u001b[43m=\u001b[49m\u001b[38;5;28;43;01mTrue\u001b[39;49;00m\u001b[43m)\u001b[49m\n",
      "\u001b[36mFile \u001b[39m\u001b[32mc:\\Users\\Jan\\Desktop\\teeth_segmentor\\evaluation\\evaluate.py:54\u001b[39m, in \u001b[36mevaluate\u001b[39m\u001b[34m(model, file, model_input_shape, stride, num_classes, return_binary, remove_ct_rings, compression_function, normalization_function, channels)\u001b[39m\n\u001b[32m     52\u001b[39m prediction = model(input_patch)  \n\u001b[32m     53\u001b[39m prediction = nn.Sigmoid()(prediction)\n\u001b[32m---> \u001b[39m\u001b[32m54\u001b[39m prediction = \u001b[43mprediction\u001b[49m\u001b[43m.\u001b[49m\u001b[43msqueeze\u001b[49m\u001b[43m(\u001b[49m\u001b[43m)\u001b[49m\u001b[43m.\u001b[49m\u001b[43mdetach\u001b[49m\u001b[43m(\u001b[49m\u001b[43m)\u001b[49m\u001b[43m.\u001b[49m\u001b[43mcpu\u001b[49m\u001b[43m(\u001b[49m\u001b[43m)\u001b[49m.numpy()  \n\u001b[32m     56\u001b[39m \u001b[38;5;66;03m# Place back into volume (accounting for overlap)\u001b[39;00m\n\u001b[32m     57\u001b[39m x, y, z = i * stride[\u001b[32m0\u001b[39m], j * stride[\u001b[32m1\u001b[39m], k * stride[\u001b[32m2\u001b[39m]\n",
      "\u001b[31mKeyboardInterrupt\u001b[39m: "
     ]
    }
   ],
   "source": [
    "from evaluation.evaluate import evaluate\n",
    "\n",
    "prediction = evaluate(model, PATH, model_input_shape=(96, 96, 96), stride = (96, 96, 96), return_binary=True)"
   ]
  },
  {
   "cell_type": "code",
   "execution_count": null,
   "id": "36ae9a39",
   "metadata": {},
   "outputs": [
    {
     "name": "stdout",
     "output_type": "stream",
     "text": [
      "(3, 268, 410, 410)\n"
     ]
    }
   ],
   "source": [
    "print(prediction.shape)"
   ]
  }
 ],
 "metadata": {
  "kernelspec": {
   "display_name": "base",
   "language": "python",
   "name": "python3"
  },
  "language_info": {
   "codemirror_mode": {
    "name": "ipython",
    "version": 3
   },
   "file_extension": ".py",
   "mimetype": "text/x-python",
   "name": "python",
   "nbconvert_exporter": "python",
   "pygments_lexer": "ipython3",
   "version": "3.12.3"
  }
 },
 "nbformat": 4,
 "nbformat_minor": 5
}
