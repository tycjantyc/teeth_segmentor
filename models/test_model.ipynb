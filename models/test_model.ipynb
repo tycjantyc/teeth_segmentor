{
 "cells": [
  {
   "cell_type": "code",
   "execution_count": null,
   "id": "dd166b30",
   "metadata": {},
   "outputs": [
    {
     "name": "stdout",
     "output_type": "stream",
     "text": [
      "['c:\\\\Users\\\\Jan\\\\miniconda3\\\\python312.zip', 'c:\\\\Users\\\\Jan\\\\miniconda3\\\\DLLs', 'c:\\\\Users\\\\Jan\\\\miniconda3\\\\Lib', 'c:\\\\Users\\\\Jan\\\\miniconda3', '', 'c:\\\\Users\\\\Jan\\\\miniconda3\\\\Lib\\\\site-packages', 'c:\\\\Users\\\\Jan\\\\miniconda3\\\\Lib\\\\site-packages\\\\win32', 'c:\\\\Users\\\\Jan\\\\miniconda3\\\\Lib\\\\site-packages\\\\win32\\\\lib', 'c:\\\\Users\\\\Jan\\\\miniconda3\\\\Lib\\\\site-packages\\\\Pythonwin', 'c:\\\\Users\\\\Jan\\\\Desktop\\\\teeth_segmentor', 'c:\\\\Users\\\\Jan\\\\miniconda3\\\\Lib\\\\site-packages\\\\setuptools\\\\_vendor', 'c:\\\\Users\\\\Jan\\\\Desktop\\\\teeth_segmentor']\n"
     ]
    },
    {
     "data": {
      "text/plain": [
       "'model_diagram.png'"
      ]
     },
     "execution_count": 3,
     "metadata": {},
     "output_type": "execute_result"
    }
   ],
   "source": [
    "import sys\n",
    "import os\n",
    "sys.path.append(os.getcwd().removesuffix('\\\\models'))\n",
    "print(sys.path)\n",
    "from tooth_fairy_1 import build_hyspark_tooth_fairy_1\n",
    "from torchviz import make_dot\n",
    "import torch\n",
    "\n",
    "\n",
    "model = build_hyspark_tooth_fairy_1()\n",
    "# Example dummy input\n",
    "dummy_input = torch.randn(1, 1, 96, 96, 96)  # shape depends on your model\n",
    "\n",
    "# Forward pass\n",
    "output = model(dummy_input)\n",
    "\n",
    "# Create diagram\n",
    "make_dot(output, params=dict(model.named_parameters()), show_attrs=True).render(\"model_diagram\", format=\"png\")\n"
   ]
  }
 ],
 "metadata": {
  "kernelspec": {
   "display_name": "base",
   "language": "python",
   "name": "python3"
  },
  "language_info": {
   "codemirror_mode": {
    "name": "ipython",
    "version": 3
   },
   "file_extension": ".py",
   "mimetype": "text/x-python",
   "name": "python",
   "nbconvert_exporter": "python",
   "pygments_lexer": "ipython3",
   "version": "3.12.3"
  }
 },
 "nbformat": 4,
 "nbformat_minor": 5
}
